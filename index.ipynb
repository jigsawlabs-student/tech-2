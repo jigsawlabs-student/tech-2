{
 "cells": [
  {
   "cell_type": "markdown",
   "id": "14317d6d-56e4-4cf5-a842-9d9a99b985e4",
   "metadata": {},
   "source": [
    "### Second Interview"
   ]
  },
  {
   "cell_type": "code",
   "execution_count": 1,
   "id": "378d1b83-54ce-4e44-916e-a79aedf15b39",
   "metadata": {},
   "outputs": [],
   "source": [
    "import pandas as pd\n",
    "\n",
    "songs_df = pd.read_csv('https://raw.githubusercontent.com/jigsawlabs-student/tech-2/main/songs.csv')"
   ]
  },
  {
   "cell_type": "code",
   "execution_count": 13,
   "id": "60d987e1-8716-45f7-a2f4-10b0e2533b8d",
   "metadata": {},
   "outputs": [],
   "source": [
    "songs = songs_df.to_dict('records')"
   ]
  },
  {
   "cell_type": "code",
   "execution_count": null,
   "id": "234636e1-66f9-43fd-8d37-3e9bee636d39",
   "metadata": {},
   "outputs": [],
   "source": []
  }
 ],
 "metadata": {
  "kernelspec": {
   "display_name": "Python 3 (ipykernel)",
   "language": "python",
   "name": "python3"
  },
  "language_info": {
   "codemirror_mode": {
    "name": "ipython",
    "version": 3
   },
   "file_extension": ".py",
   "mimetype": "text/x-python",
   "name": "python",
   "nbconvert_exporter": "python",
   "pygments_lexer": "ipython3",
   "version": "3.9.7"
  }
 },
 "nbformat": 4,
 "nbformat_minor": 5
}
